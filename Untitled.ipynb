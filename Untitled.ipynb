{
 "cells": [
  {
   "cell_type": "markdown",
   "id": "fcbab991",
   "metadata": {},
   "source": [
    "Make tic tac toe DIY"
   ]
  },
  {
   "cell_type": "code",
   "execution_count": 4,
   "id": "5b529b33",
   "metadata": {},
   "outputs": [],
   "source": [
    "from IPython.display import clear_output\n",
    "import random\n",
    "def display(row1):\n",
    "    clear_output()\n",
    "    print(row1[0] + '|' + row1[1] + '|' + row1[2])\n",
    "    print(row1[3] + '|' + row1[4] + '|' + row1[5])    \n",
    "    print(row1[6] + '|' + row1[7] + '|' + row1[8])    "
   ]
  },
  {
   "cell_type": "code",
   "execution_count": 5,
   "id": "d5e10161",
   "metadata": {},
   "outputs": [
    {
     "name": "stdout",
     "output_type": "stream",
     "text": [
      "X|O|X\n",
      "O|X|O\n",
      "X|O|X\n"
     ]
    }
   ],
   "source": [
    "row = ['X', 'O', 'X','O', 'X', 'O','X', 'O', 'X']\n",
    "display(row)\n"
   ]
  },
  {
   "cell_type": "code",
   "execution_count": 6,
   "id": "f1207a45",
   "metadata": {},
   "outputs": [],
   "source": [
    "def win_check(mark, row):\n",
    "    return ((row[0] == mark and row[1] == mark and row[2] == mark) or\n",
    "            (row[3] == mark and row[4] == mark and row[5] == mark) or\n",
    "            (row[6] == mark and row[7] == mark and row[8] == mark) or\n",
    "            (row[0] == mark and row[3] == mark and row[6] == mark) or\n",
    "            (row[1] == mark and row[4] == mark and row[7] == mark) or\n",
    "            (row[2] == mark and row[5] == mark and row[8] == mark) or\n",
    "            (row[0] == mark and row[4] == mark and row[8] == mark) or\n",
    "            (row[2] == mark and row[4] == mark and row[6] == mark))"
   ]
  },
  {
   "cell_type": "code",
   "execution_count": 7,
   "id": "9c119ac8",
   "metadata": {},
   "outputs": [],
   "source": [
    "def select_mark():\n",
    "    option = ['X', 'O']\n",
    "    select = 'a'\n",
    "    \n",
    "    while select not in option:\n",
    "        select = input('Select mark x/o').upper()\n",
    "        if select in option:\n",
    "            break\n",
    "        print('Please input x or o!')\n",
    "        \n",
    "    if select == 'X':\n",
    "        return ('X', 'O')\n",
    "    else:\n",
    "        return('O', 'X')"
   ]
  },
  {
   "cell_type": "code",
   "execution_count": 55,
   "id": "5c32ad0f",
   "metadata": {},
   "outputs": [],
   "source": [
    "def user_choice(row):\n",
    "    choice = 'Not invalid, please input real number'\n",
    "    range_tictac = [0, 1, 2, 3, 4, 5, 6, 7, 8]\n",
    "    \n",
    "    while choice not in range_tictac or not check_free(row, choice):\n",
    "        choice = int(input('Please input 0-8'))\n",
    "        \n",
    "    return int(choice)"
   ]
  },
  {
   "cell_type": "code",
   "execution_count": 52,
   "id": "f1d37d99",
   "metadata": {},
   "outputs": [],
   "source": [
    "def replacement_choice(game_list, position, mark):\n",
    "    \n",
    "    game_list[position] = mark\n",
    "    \n",
    "    return game_list"
   ]
  },
  {
   "cell_type": "code",
   "execution_count": 10,
   "id": "f53a1f44",
   "metadata": {},
   "outputs": [],
   "source": [
    "def gameon_choice():\n",
    "    choice = ['y', 'n']\n",
    "    \n",
    "    result = 0\n",
    "    \n",
    "    while result not in choice:\n",
    "        result = input('Do you want to still continue? y/n')\n",
    "        \n",
    "        if result not in choice:\n",
    "            print('please input y or n!')\n",
    "    if result == 'y':\n",
    "        return True\n",
    "    elif result == 'n':\n",
    "        return False"
   ]
  },
  {
   "cell_type": "code",
   "execution_count": 22,
   "id": "37d2db4a",
   "metadata": {},
   "outputs": [],
   "source": [
    "def choose_first():\n",
    "    if random.randint(0,2) == 2:\n",
    "        return 'player_1'\n",
    "    else:\n",
    "        return 'player_2'"
   ]
  },
  {
   "cell_type": "code",
   "execution_count": 51,
   "id": "bf25b020",
   "metadata": {},
   "outputs": [],
   "source": [
    "def check_free(row, position):\n",
    "    return row[position] == ' '"
   ]
  },
  {
   "cell_type": "code",
   "execution_count": 25,
   "id": "b9252697",
   "metadata": {},
   "outputs": [],
   "source": [
    "def full_board_check(row):\n",
    "    for i in range(0, 8):\n",
    "        if check_free(row, i):\n",
    "            return False\n",
    "    return True"
   ]
  },
  {
   "cell_type": "code",
   "execution_count": 26,
   "id": "9059c3c3",
   "metadata": {},
   "outputs": [],
   "source": [
    "def replay():\n",
    "    \n",
    "    return input('Do you want to play again? Enter Yes or No: ').lower().startswith('y')"
   ]
  },
  {
   "cell_type": "code",
   "execution_count": 56,
   "id": "19582c1a",
   "metadata": {},
   "outputs": [
    {
     "name": "stdout",
     "output_type": "stream",
     "text": [
      "X|O| \n",
      "O|X|O\n",
      " | |X\n",
      "Congrats to winning this games player 1\n",
      "Do you want to play again? Enter Yes or No: ga\n"
     ]
    }
   ],
   "source": [
    "print('Welcome to tic tac toe')\n",
    "\n",
    "while True:\n",
    "    theBoard = [' '] * 10\n",
    "    player_1mark, player_2mark = select_mark()\n",
    "    turn = choose_first()\n",
    "    print(f'{turn} will go first')\n",
    "    confirmation = input('Are you ready? y/n')\n",
    "    \n",
    "    if confirmation == 'y':\n",
    "        start = True\n",
    "    else:\n",
    "        start = False\n",
    "    \n",
    "    while start:\n",
    "        print('change the player')\n",
    "        if turn == 'player_1':\n",
    "            \n",
    "            display(theBoard)\n",
    "            selected = user_choice(theBoard)\n",
    "            replacement_choice(theBoard, selected, player_1mark)\n",
    "            \n",
    "            if win_check(player_1mark, theBoard):\n",
    "                display(theBoard)\n",
    "                print('Congrats to winning this games player 1')\n",
    "                start = False\n",
    "            else:\n",
    "                if full_board_check(theBoard):\n",
    "                    print('The game is draw')\n",
    "                    start = False\n",
    "                    break\n",
    "                else:\n",
    "                    print('change the player!!!')\n",
    "                    turn = 'player_2'\n",
    "                    \n",
    "        else:\n",
    "            print('change the player!!!')\n",
    "            display(theBoard)\n",
    "            selected = user_choice(theBoard)\n",
    "            replacement_choice(theBoard, selected, player_2mark)\n",
    "            \n",
    "            if win_check(player_2mark, theBoard):\n",
    "                display(theBoard)\n",
    "                print('Congrats to winning this games player 2')\n",
    "                start = False\n",
    "            else:\n",
    "                if full_board_check(theBoard):\n",
    "                    print('The game is draw')\n",
    "                    start = False\n",
    "                    break\n",
    "                else:\n",
    "                    \n",
    "                    turn = 'player_1'\n",
    "                    \n",
    "    if not replay():\n",
    "        break"
   ]
  },
  {
   "cell_type": "code",
   "execution_count": null,
   "id": "65cceee5",
   "metadata": {},
   "outputs": [],
   "source": []
  },
  {
   "cell_type": "code",
   "execution_count": null,
   "id": "f36ddcea",
   "metadata": {},
   "outputs": [],
   "source": []
  },
  {
   "cell_type": "code",
   "execution_count": null,
   "id": "0935594f",
   "metadata": {},
   "outputs": [],
   "source": []
  }
 ],
 "metadata": {
  "kernelspec": {
   "display_name": "Python 3 (ipykernel)",
   "language": "python",
   "name": "python3"
  },
  "language_info": {
   "codemirror_mode": {
    "name": "ipython",
    "version": 3
   },
   "file_extension": ".py",
   "mimetype": "text/x-python",
   "name": "python",
   "nbconvert_exporter": "python",
   "pygments_lexer": "ipython3",
   "version": "3.11.3"
  }
 },
 "nbformat": 4,
 "nbformat_minor": 5
}
